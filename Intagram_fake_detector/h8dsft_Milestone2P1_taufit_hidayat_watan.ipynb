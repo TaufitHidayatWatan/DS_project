{
  "nbformat": 4,
  "nbformat_minor": 0,
  "metadata": {
    "colab": {
      "name": "h8dsft_Milestone2P1_taufit_hidayat_watan.ipynb",
      "provenance": [],
      "collapsed_sections": []
    },
    "kernelspec": {
      "name": "python3",
      "display_name": "Python 3"
    },
    "language_info": {
      "name": "python"
    }
  },
  "cells": [
    {
      "cell_type": "markdown",
      "source": [
        "# 1 - Perkenalan\n"
      ],
      "metadata": {
        "id": "TLXXEG3JHTx8"
      }
    },
    {
      "cell_type": "markdown",
      "source": [
        "Nama : Taufit Hidayat Watan\n",
        "\n"
      ],
      "metadata": {
        "id": "wlAACgG-HY66"
      }
    },
    {
      "cell_type": "markdown",
      "source": [
        "Batch : 10"
      ],
      "metadata": {
        "id": "-5FSDu9IH50a"
      }
    },
    {
      "cell_type": "markdown",
      "source": [
        "`Objective dari Milestone 2 ini adalah untuk mengevalusai pemelajaran terkait Machile Learning. Pada projcet Milestone 2 ini saya ingin membuat sebuah model yang mampu memprediksi apakah sebuah akun Instagram itu fake arau buka. Dataset yang saya gunakan bersumber dari https://www.kaggle.com/datasets/free4ever1/instagram-fake-spammer-genuine-accounts?select=train.csv."
      ],
      "metadata": {
        "id": "ccxQQ-Wvk-Tc"
      }
    },
    {
      "cell_type": "markdown",
      "source": [
        "# 2 - Import Librabries"
      ],
      "metadata": {
        "id": "0LipYU8x19DW"
      }
    },
    {
      "cell_type": "code",
      "execution_count": null,
      "metadata": {
        "id": "BzIj9xNAYewh"
      },
      "outputs": [],
      "source": [
        "import pandas as pd\n",
        "import numpy as np\n",
        "import matplotlib.pyplot as plt\n",
        "import seaborn as sns\n",
        "from sklearn.model_selection import train_test_split\n",
        "!pip install feature_engine\n",
        "from feature_engine.outliers import Winsorizer\n",
        "from sklearn.preprocessing import MinMaxScaler\n",
        "from sklearn.preprocessing import OneHotEncoder\n",
        "from sklearn.decomposition import PCA\n",
        "from sklearn.svm import SVC\n",
        "from sklearn.ensemble import RandomForestClassifier\n",
        "from sklearn.metrics import accuracy_score, classification_report\n",
        "from sklearn.model_selection import GridSearchCV\n",
        "from sklearn.pipeline import make_pipeline\n",
        "from sklearn.compose import ColumnTransformer\n",
        "import pickle"
      ]
    },
    {
      "cell_type": "markdown",
      "source": [
        "# 3 - Data Loading"
      ],
      "metadata": {
        "id": "VTbh9Xo_2BsJ"
      }
    },
    {
      "cell_type": "code",
      "source": [
        "data = pd.read_csv('/content/train.csv')"
      ],
      "metadata": {
        "id": "-c8HZESnYpow"
      },
      "execution_count": 3,
      "outputs": []
    },
    {
      "cell_type": "code",
      "source": [
        "data"
      ],
      "metadata": {
        "colab": {
          "base_uri": "https://localhost:8080/",
          "height": 505
        },
        "id": "h6_n1Cc2YuPg",
        "outputId": "7c925460-80d7-47cd-a8f4-2e0114172dc0"
      },
      "execution_count": 4,
      "outputs": [
        {
          "output_type": "execute_result",
          "data": {
            "text/plain": [
              "     profile pic  nums/length username  fullname words  nums/length fullname  \\\n",
              "0              1                  0.27               0                  0.00   \n",
              "1              1                  0.00               2                  0.00   \n",
              "2              1                  0.10               2                  0.00   \n",
              "3              1                  0.00               1                  0.00   \n",
              "4              1                  0.00               2                  0.00   \n",
              "..           ...                   ...             ...                   ...   \n",
              "571            1                  0.55               1                  0.44   \n",
              "572            1                  0.38               1                  0.33   \n",
              "573            1                  0.57               2                  0.00   \n",
              "574            1                  0.57               1                  0.00   \n",
              "575            1                  0.27               1                  0.00   \n",
              "\n",
              "     name==username  description length  external URL  private  #posts  \\\n",
              "0                 0                  53             0        0      32   \n",
              "1                 0                  44             0        0     286   \n",
              "2                 0                   0             0        1      13   \n",
              "3                 0                  82             0        0     679   \n",
              "4                 0                   0             0        1       6   \n",
              "..              ...                 ...           ...      ...     ...   \n",
              "571               0                   0             0        0      33   \n",
              "572               0                  21             0        0      44   \n",
              "573               0                   0             0        0       4   \n",
              "574               0                  11             0        0       0   \n",
              "575               0                   0             0        0       2   \n",
              "\n",
              "     #followers  #follows  fake  \n",
              "0          1000       955     0  \n",
              "1          2740       533     0  \n",
              "2           159        98     0  \n",
              "3           414       651     0  \n",
              "4           151       126     0  \n",
              "..          ...       ...   ...  \n",
              "571         166       596     1  \n",
              "572          66        75     1  \n",
              "573          96       339     1  \n",
              "574          57        73     1  \n",
              "575         150       487     1  \n",
              "\n",
              "[576 rows x 12 columns]"
            ],
            "text/html": [
              "\n",
              "  <div id=\"df-a998852b-146a-489e-82a9-426ea5871d71\">\n",
              "    <div class=\"colab-df-container\">\n",
              "      <div>\n",
              "<style scoped>\n",
              "    .dataframe tbody tr th:only-of-type {\n",
              "        vertical-align: middle;\n",
              "    }\n",
              "\n",
              "    .dataframe tbody tr th {\n",
              "        vertical-align: top;\n",
              "    }\n",
              "\n",
              "    .dataframe thead th {\n",
              "        text-align: right;\n",
              "    }\n",
              "</style>\n",
              "<table border=\"1\" class=\"dataframe\">\n",
              "  <thead>\n",
              "    <tr style=\"text-align: right;\">\n",
              "      <th></th>\n",
              "      <th>profile pic</th>\n",
              "      <th>nums/length username</th>\n",
              "      <th>fullname words</th>\n",
              "      <th>nums/length fullname</th>\n",
              "      <th>name==username</th>\n",
              "      <th>description length</th>\n",
              "      <th>external URL</th>\n",
              "      <th>private</th>\n",
              "      <th>#posts</th>\n",
              "      <th>#followers</th>\n",
              "      <th>#follows</th>\n",
              "      <th>fake</th>\n",
              "    </tr>\n",
              "  </thead>\n",
              "  <tbody>\n",
              "    <tr>\n",
              "      <th>0</th>\n",
              "      <td>1</td>\n",
              "      <td>0.27</td>\n",
              "      <td>0</td>\n",
              "      <td>0.00</td>\n",
              "      <td>0</td>\n",
              "      <td>53</td>\n",
              "      <td>0</td>\n",
              "      <td>0</td>\n",
              "      <td>32</td>\n",
              "      <td>1000</td>\n",
              "      <td>955</td>\n",
              "      <td>0</td>\n",
              "    </tr>\n",
              "    <tr>\n",
              "      <th>1</th>\n",
              "      <td>1</td>\n",
              "      <td>0.00</td>\n",
              "      <td>2</td>\n",
              "      <td>0.00</td>\n",
              "      <td>0</td>\n",
              "      <td>44</td>\n",
              "      <td>0</td>\n",
              "      <td>0</td>\n",
              "      <td>286</td>\n",
              "      <td>2740</td>\n",
              "      <td>533</td>\n",
              "      <td>0</td>\n",
              "    </tr>\n",
              "    <tr>\n",
              "      <th>2</th>\n",
              "      <td>1</td>\n",
              "      <td>0.10</td>\n",
              "      <td>2</td>\n",
              "      <td>0.00</td>\n",
              "      <td>0</td>\n",
              "      <td>0</td>\n",
              "      <td>0</td>\n",
              "      <td>1</td>\n",
              "      <td>13</td>\n",
              "      <td>159</td>\n",
              "      <td>98</td>\n",
              "      <td>0</td>\n",
              "    </tr>\n",
              "    <tr>\n",
              "      <th>3</th>\n",
              "      <td>1</td>\n",
              "      <td>0.00</td>\n",
              "      <td>1</td>\n",
              "      <td>0.00</td>\n",
              "      <td>0</td>\n",
              "      <td>82</td>\n",
              "      <td>0</td>\n",
              "      <td>0</td>\n",
              "      <td>679</td>\n",
              "      <td>414</td>\n",
              "      <td>651</td>\n",
              "      <td>0</td>\n",
              "    </tr>\n",
              "    <tr>\n",
              "      <th>4</th>\n",
              "      <td>1</td>\n",
              "      <td>0.00</td>\n",
              "      <td>2</td>\n",
              "      <td>0.00</td>\n",
              "      <td>0</td>\n",
              "      <td>0</td>\n",
              "      <td>0</td>\n",
              "      <td>1</td>\n",
              "      <td>6</td>\n",
              "      <td>151</td>\n",
              "      <td>126</td>\n",
              "      <td>0</td>\n",
              "    </tr>\n",
              "    <tr>\n",
              "      <th>...</th>\n",
              "      <td>...</td>\n",
              "      <td>...</td>\n",
              "      <td>...</td>\n",
              "      <td>...</td>\n",
              "      <td>...</td>\n",
              "      <td>...</td>\n",
              "      <td>...</td>\n",
              "      <td>...</td>\n",
              "      <td>...</td>\n",
              "      <td>...</td>\n",
              "      <td>...</td>\n",
              "      <td>...</td>\n",
              "    </tr>\n",
              "    <tr>\n",
              "      <th>571</th>\n",
              "      <td>1</td>\n",
              "      <td>0.55</td>\n",
              "      <td>1</td>\n",
              "      <td>0.44</td>\n",
              "      <td>0</td>\n",
              "      <td>0</td>\n",
              "      <td>0</td>\n",
              "      <td>0</td>\n",
              "      <td>33</td>\n",
              "      <td>166</td>\n",
              "      <td>596</td>\n",
              "      <td>1</td>\n",
              "    </tr>\n",
              "    <tr>\n",
              "      <th>572</th>\n",
              "      <td>1</td>\n",
              "      <td>0.38</td>\n",
              "      <td>1</td>\n",
              "      <td>0.33</td>\n",
              "      <td>0</td>\n",
              "      <td>21</td>\n",
              "      <td>0</td>\n",
              "      <td>0</td>\n",
              "      <td>44</td>\n",
              "      <td>66</td>\n",
              "      <td>75</td>\n",
              "      <td>1</td>\n",
              "    </tr>\n",
              "    <tr>\n",
              "      <th>573</th>\n",
              "      <td>1</td>\n",
              "      <td>0.57</td>\n",
              "      <td>2</td>\n",
              "      <td>0.00</td>\n",
              "      <td>0</td>\n",
              "      <td>0</td>\n",
              "      <td>0</td>\n",
              "      <td>0</td>\n",
              "      <td>4</td>\n",
              "      <td>96</td>\n",
              "      <td>339</td>\n",
              "      <td>1</td>\n",
              "    </tr>\n",
              "    <tr>\n",
              "      <th>574</th>\n",
              "      <td>1</td>\n",
              "      <td>0.57</td>\n",
              "      <td>1</td>\n",
              "      <td>0.00</td>\n",
              "      <td>0</td>\n",
              "      <td>11</td>\n",
              "      <td>0</td>\n",
              "      <td>0</td>\n",
              "      <td>0</td>\n",
              "      <td>57</td>\n",
              "      <td>73</td>\n",
              "      <td>1</td>\n",
              "    </tr>\n",
              "    <tr>\n",
              "      <th>575</th>\n",
              "      <td>1</td>\n",
              "      <td>0.27</td>\n",
              "      <td>1</td>\n",
              "      <td>0.00</td>\n",
              "      <td>0</td>\n",
              "      <td>0</td>\n",
              "      <td>0</td>\n",
              "      <td>0</td>\n",
              "      <td>2</td>\n",
              "      <td>150</td>\n",
              "      <td>487</td>\n",
              "      <td>1</td>\n",
              "    </tr>\n",
              "  </tbody>\n",
              "</table>\n",
              "<p>576 rows × 12 columns</p>\n",
              "</div>\n",
              "      <button class=\"colab-df-convert\" onclick=\"convertToInteractive('df-a998852b-146a-489e-82a9-426ea5871d71')\"\n",
              "              title=\"Convert this dataframe to an interactive table.\"\n",
              "              style=\"display:none;\">\n",
              "        \n",
              "  <svg xmlns=\"http://www.w3.org/2000/svg\" height=\"24px\"viewBox=\"0 0 24 24\"\n",
              "       width=\"24px\">\n",
              "    <path d=\"M0 0h24v24H0V0z\" fill=\"none\"/>\n",
              "    <path d=\"M18.56 5.44l.94 2.06.94-2.06 2.06-.94-2.06-.94-.94-2.06-.94 2.06-2.06.94zm-11 1L8.5 8.5l.94-2.06 2.06-.94-2.06-.94L8.5 2.5l-.94 2.06-2.06.94zm10 10l.94 2.06.94-2.06 2.06-.94-2.06-.94-.94-2.06-.94 2.06-2.06.94z\"/><path d=\"M17.41 7.96l-1.37-1.37c-.4-.4-.92-.59-1.43-.59-.52 0-1.04.2-1.43.59L10.3 9.45l-7.72 7.72c-.78.78-.78 2.05 0 2.83L4 21.41c.39.39.9.59 1.41.59.51 0 1.02-.2 1.41-.59l7.78-7.78 2.81-2.81c.8-.78.8-2.07 0-2.86zM5.41 20L4 18.59l7.72-7.72 1.47 1.35L5.41 20z\"/>\n",
              "  </svg>\n",
              "      </button>\n",
              "      \n",
              "  <style>\n",
              "    .colab-df-container {\n",
              "      display:flex;\n",
              "      flex-wrap:wrap;\n",
              "      gap: 12px;\n",
              "    }\n",
              "\n",
              "    .colab-df-convert {\n",
              "      background-color: #E8F0FE;\n",
              "      border: none;\n",
              "      border-radius: 50%;\n",
              "      cursor: pointer;\n",
              "      display: none;\n",
              "      fill: #1967D2;\n",
              "      height: 32px;\n",
              "      padding: 0 0 0 0;\n",
              "      width: 32px;\n",
              "    }\n",
              "\n",
              "    .colab-df-convert:hover {\n",
              "      background-color: #E2EBFA;\n",
              "      box-shadow: 0px 1px 2px rgba(60, 64, 67, 0.3), 0px 1px 3px 1px rgba(60, 64, 67, 0.15);\n",
              "      fill: #174EA6;\n",
              "    }\n",
              "\n",
              "    [theme=dark] .colab-df-convert {\n",
              "      background-color: #3B4455;\n",
              "      fill: #D2E3FC;\n",
              "    }\n",
              "\n",
              "    [theme=dark] .colab-df-convert:hover {\n",
              "      background-color: #434B5C;\n",
              "      box-shadow: 0px 1px 3px 1px rgba(0, 0, 0, 0.15);\n",
              "      filter: drop-shadow(0px 1px 2px rgba(0, 0, 0, 0.3));\n",
              "      fill: #FFFFFF;\n",
              "    }\n",
              "  </style>\n",
              "\n",
              "      <script>\n",
              "        const buttonEl =\n",
              "          document.querySelector('#df-a998852b-146a-489e-82a9-426ea5871d71 button.colab-df-convert');\n",
              "        buttonEl.style.display =\n",
              "          google.colab.kernel.accessAllowed ? 'block' : 'none';\n",
              "\n",
              "        async function convertToInteractive(key) {\n",
              "          const element = document.querySelector('#df-a998852b-146a-489e-82a9-426ea5871d71');\n",
              "          const dataTable =\n",
              "            await google.colab.kernel.invokeFunction('convertToInteractive',\n",
              "                                                     [key], {});\n",
              "          if (!dataTable) return;\n",
              "\n",
              "          const docLinkHtml = 'Like what you see? Visit the ' +\n",
              "            '<a target=\"_blank\" href=https://colab.research.google.com/notebooks/data_table.ipynb>data table notebook</a>'\n",
              "            + ' to learn more about interactive tables.';\n",
              "          element.innerHTML = '';\n",
              "          dataTable['output_type'] = 'display_data';\n",
              "          await google.colab.output.renderOutput(dataTable, element);\n",
              "          const docLink = document.createElement('div');\n",
              "          docLink.innerHTML = docLinkHtml;\n",
              "          element.appendChild(docLink);\n",
              "        }\n",
              "      </script>\n",
              "    </div>\n",
              "  </div>\n",
              "  "
            ]
          },
          "metadata": {},
          "execution_count": 4
        }
      ]
    },
    {
      "cell_type": "code",
      "source": [
        "data['profile pic'].replace(0, 'Yes', inplace = True)\n",
        "data['profile pic'].replace(1, 'No', inplace = True)"
      ],
      "metadata": {
        "id": "aX96PZpUerHk"
      },
      "execution_count": 5,
      "outputs": []
    },
    {
      "cell_type": "code",
      "source": [
        "data['name==username'].replace(0, 'Yes', inplace = True)\n",
        "data['name==username'].replace(1, 'No', inplace = True)"
      ],
      "metadata": {
        "id": "xTTyo5-gfKv6"
      },
      "execution_count": 6,
      "outputs": []
    },
    {
      "cell_type": "code",
      "source": [
        "data['external URL'].replace(0, 'Yes', inplace = True)\n",
        "data['external URL'].replace(1, 'No', inplace = True)"
      ],
      "metadata": {
        "id": "J-8rQlI3fLZT"
      },
      "execution_count": 7,
      "outputs": []
    },
    {
      "cell_type": "code",
      "source": [
        "data['private'].replace(0, 'Yes', inplace = True)\n",
        "data['private'].replace(1, 'No', inplace = True)"
      ],
      "metadata": {
        "id": "iW77TvObfMGx"
      },
      "execution_count": 8,
      "outputs": []
    },
    {
      "cell_type": "markdown",
      "source": [
        "Pada bagian ini semua fitur yang berisi 0 dan 1 diubah menjadi YES dan NO, hal ini dilakukan karena pada model deployment nanti data yang dimasukan adalah string YES dan NO."
      ],
      "metadata": {
        "id": "BHz2bZd-IwuG"
      }
    },
    {
      "cell_type": "code",
      "source": [
        "data"
      ],
      "metadata": {
        "colab": {
          "base_uri": "https://localhost:8080/",
          "height": 505
        },
        "id": "29kPSpA0fw7V",
        "outputId": "ce5ba5c4-53ec-4ca9-83c9-7e338f09e43a"
      },
      "execution_count": 9,
      "outputs": [
        {
          "output_type": "execute_result",
          "data": {
            "text/plain": [
              "    profile pic  nums/length username  fullname words  nums/length fullname  \\\n",
              "0            No                  0.27               0                  0.00   \n",
              "1            No                  0.00               2                  0.00   \n",
              "2            No                  0.10               2                  0.00   \n",
              "3            No                  0.00               1                  0.00   \n",
              "4            No                  0.00               2                  0.00   \n",
              "..          ...                   ...             ...                   ...   \n",
              "571          No                  0.55               1                  0.44   \n",
              "572          No                  0.38               1                  0.33   \n",
              "573          No                  0.57               2                  0.00   \n",
              "574          No                  0.57               1                  0.00   \n",
              "575          No                  0.27               1                  0.00   \n",
              "\n",
              "    name==username  description length external URL private  #posts  \\\n",
              "0              Yes                  53          Yes     Yes      32   \n",
              "1              Yes                  44          Yes     Yes     286   \n",
              "2              Yes                   0          Yes      No      13   \n",
              "3              Yes                  82          Yes     Yes     679   \n",
              "4              Yes                   0          Yes      No       6   \n",
              "..             ...                 ...          ...     ...     ...   \n",
              "571            Yes                   0          Yes     Yes      33   \n",
              "572            Yes                  21          Yes     Yes      44   \n",
              "573            Yes                   0          Yes     Yes       4   \n",
              "574            Yes                  11          Yes     Yes       0   \n",
              "575            Yes                   0          Yes     Yes       2   \n",
              "\n",
              "     #followers  #follows  fake  \n",
              "0          1000       955     0  \n",
              "1          2740       533     0  \n",
              "2           159        98     0  \n",
              "3           414       651     0  \n",
              "4           151       126     0  \n",
              "..          ...       ...   ...  \n",
              "571         166       596     1  \n",
              "572          66        75     1  \n",
              "573          96       339     1  \n",
              "574          57        73     1  \n",
              "575         150       487     1  \n",
              "\n",
              "[576 rows x 12 columns]"
            ],
            "text/html": [
              "\n",
              "  <div id=\"df-cd8183d2-b4cb-4d8f-9faa-87df51f2cd35\">\n",
              "    <div class=\"colab-df-container\">\n",
              "      <div>\n",
              "<style scoped>\n",
              "    .dataframe tbody tr th:only-of-type {\n",
              "        vertical-align: middle;\n",
              "    }\n",
              "\n",
              "    .dataframe tbody tr th {\n",
              "        vertical-align: top;\n",
              "    }\n",
              "\n",
              "    .dataframe thead th {\n",
              "        text-align: right;\n",
              "    }\n",
              "</style>\n",
              "<table border=\"1\" class=\"dataframe\">\n",
              "  <thead>\n",
              "    <tr style=\"text-align: right;\">\n",
              "      <th></th>\n",
              "      <th>profile pic</th>\n",
              "      <th>nums/length username</th>\n",
              "      <th>fullname words</th>\n",
              "      <th>nums/length fullname</th>\n",
              "      <th>name==username</th>\n",
              "      <th>description length</th>\n",
              "      <th>external URL</th>\n",
              "      <th>private</th>\n",
              "      <th>#posts</th>\n",
              "      <th>#followers</th>\n",
              "      <th>#follows</th>\n",
              "      <th>fake</th>\n",
              "    </tr>\n",
              "  </thead>\n",
              "  <tbody>\n",
              "    <tr>\n",
              "      <th>0</th>\n",
              "      <td>No</td>\n",
              "      <td>0.27</td>\n",
              "      <td>0</td>\n",
              "      <td>0.00</td>\n",
              "      <td>Yes</td>\n",
              "      <td>53</td>\n",
              "      <td>Yes</td>\n",
              "      <td>Yes</td>\n",
              "      <td>32</td>\n",
              "      <td>1000</td>\n",
              "      <td>955</td>\n",
              "      <td>0</td>\n",
              "    </tr>\n",
              "    <tr>\n",
              "      <th>1</th>\n",
              "      <td>No</td>\n",
              "      <td>0.00</td>\n",
              "      <td>2</td>\n",
              "      <td>0.00</td>\n",
              "      <td>Yes</td>\n",
              "      <td>44</td>\n",
              "      <td>Yes</td>\n",
              "      <td>Yes</td>\n",
              "      <td>286</td>\n",
              "      <td>2740</td>\n",
              "      <td>533</td>\n",
              "      <td>0</td>\n",
              "    </tr>\n",
              "    <tr>\n",
              "      <th>2</th>\n",
              "      <td>No</td>\n",
              "      <td>0.10</td>\n",
              "      <td>2</td>\n",
              "      <td>0.00</td>\n",
              "      <td>Yes</td>\n",
              "      <td>0</td>\n",
              "      <td>Yes</td>\n",
              "      <td>No</td>\n",
              "      <td>13</td>\n",
              "      <td>159</td>\n",
              "      <td>98</td>\n",
              "      <td>0</td>\n",
              "    </tr>\n",
              "    <tr>\n",
              "      <th>3</th>\n",
              "      <td>No</td>\n",
              "      <td>0.00</td>\n",
              "      <td>1</td>\n",
              "      <td>0.00</td>\n",
              "      <td>Yes</td>\n",
              "      <td>82</td>\n",
              "      <td>Yes</td>\n",
              "      <td>Yes</td>\n",
              "      <td>679</td>\n",
              "      <td>414</td>\n",
              "      <td>651</td>\n",
              "      <td>0</td>\n",
              "    </tr>\n",
              "    <tr>\n",
              "      <th>4</th>\n",
              "      <td>No</td>\n",
              "      <td>0.00</td>\n",
              "      <td>2</td>\n",
              "      <td>0.00</td>\n",
              "      <td>Yes</td>\n",
              "      <td>0</td>\n",
              "      <td>Yes</td>\n",
              "      <td>No</td>\n",
              "      <td>6</td>\n",
              "      <td>151</td>\n",
              "      <td>126</td>\n",
              "      <td>0</td>\n",
              "    </tr>\n",
              "    <tr>\n",
              "      <th>...</th>\n",
              "      <td>...</td>\n",
              "      <td>...</td>\n",
              "      <td>...</td>\n",
              "      <td>...</td>\n",
              "      <td>...</td>\n",
              "      <td>...</td>\n",
              "      <td>...</td>\n",
              "      <td>...</td>\n",
              "      <td>...</td>\n",
              "      <td>...</td>\n",
              "      <td>...</td>\n",
              "      <td>...</td>\n",
              "    </tr>\n",
              "    <tr>\n",
              "      <th>571</th>\n",
              "      <td>No</td>\n",
              "      <td>0.55</td>\n",
              "      <td>1</td>\n",
              "      <td>0.44</td>\n",
              "      <td>Yes</td>\n",
              "      <td>0</td>\n",
              "      <td>Yes</td>\n",
              "      <td>Yes</td>\n",
              "      <td>33</td>\n",
              "      <td>166</td>\n",
              "      <td>596</td>\n",
              "      <td>1</td>\n",
              "    </tr>\n",
              "    <tr>\n",
              "      <th>572</th>\n",
              "      <td>No</td>\n",
              "      <td>0.38</td>\n",
              "      <td>1</td>\n",
              "      <td>0.33</td>\n",
              "      <td>Yes</td>\n",
              "      <td>21</td>\n",
              "      <td>Yes</td>\n",
              "      <td>Yes</td>\n",
              "      <td>44</td>\n",
              "      <td>66</td>\n",
              "      <td>75</td>\n",
              "      <td>1</td>\n",
              "    </tr>\n",
              "    <tr>\n",
              "      <th>573</th>\n",
              "      <td>No</td>\n",
              "      <td>0.57</td>\n",
              "      <td>2</td>\n",
              "      <td>0.00</td>\n",
              "      <td>Yes</td>\n",
              "      <td>0</td>\n",
              "      <td>Yes</td>\n",
              "      <td>Yes</td>\n",
              "      <td>4</td>\n",
              "      <td>96</td>\n",
              "      <td>339</td>\n",
              "      <td>1</td>\n",
              "    </tr>\n",
              "    <tr>\n",
              "      <th>574</th>\n",
              "      <td>No</td>\n",
              "      <td>0.57</td>\n",
              "      <td>1</td>\n",
              "      <td>0.00</td>\n",
              "      <td>Yes</td>\n",
              "      <td>11</td>\n",
              "      <td>Yes</td>\n",
              "      <td>Yes</td>\n",
              "      <td>0</td>\n",
              "      <td>57</td>\n",
              "      <td>73</td>\n",
              "      <td>1</td>\n",
              "    </tr>\n",
              "    <tr>\n",
              "      <th>575</th>\n",
              "      <td>No</td>\n",
              "      <td>0.27</td>\n",
              "      <td>1</td>\n",
              "      <td>0.00</td>\n",
              "      <td>Yes</td>\n",
              "      <td>0</td>\n",
              "      <td>Yes</td>\n",
              "      <td>Yes</td>\n",
              "      <td>2</td>\n",
              "      <td>150</td>\n",
              "      <td>487</td>\n",
              "      <td>1</td>\n",
              "    </tr>\n",
              "  </tbody>\n",
              "</table>\n",
              "<p>576 rows × 12 columns</p>\n",
              "</div>\n",
              "      <button class=\"colab-df-convert\" onclick=\"convertToInteractive('df-cd8183d2-b4cb-4d8f-9faa-87df51f2cd35')\"\n",
              "              title=\"Convert this dataframe to an interactive table.\"\n",
              "              style=\"display:none;\">\n",
              "        \n",
              "  <svg xmlns=\"http://www.w3.org/2000/svg\" height=\"24px\"viewBox=\"0 0 24 24\"\n",
              "       width=\"24px\">\n",
              "    <path d=\"M0 0h24v24H0V0z\" fill=\"none\"/>\n",
              "    <path d=\"M18.56 5.44l.94 2.06.94-2.06 2.06-.94-2.06-.94-.94-2.06-.94 2.06-2.06.94zm-11 1L8.5 8.5l.94-2.06 2.06-.94-2.06-.94L8.5 2.5l-.94 2.06-2.06.94zm10 10l.94 2.06.94-2.06 2.06-.94-2.06-.94-.94-2.06-.94 2.06-2.06.94z\"/><path d=\"M17.41 7.96l-1.37-1.37c-.4-.4-.92-.59-1.43-.59-.52 0-1.04.2-1.43.59L10.3 9.45l-7.72 7.72c-.78.78-.78 2.05 0 2.83L4 21.41c.39.39.9.59 1.41.59.51 0 1.02-.2 1.41-.59l7.78-7.78 2.81-2.81c.8-.78.8-2.07 0-2.86zM5.41 20L4 18.59l7.72-7.72 1.47 1.35L5.41 20z\"/>\n",
              "  </svg>\n",
              "      </button>\n",
              "      \n",
              "  <style>\n",
              "    .colab-df-container {\n",
              "      display:flex;\n",
              "      flex-wrap:wrap;\n",
              "      gap: 12px;\n",
              "    }\n",
              "\n",
              "    .colab-df-convert {\n",
              "      background-color: #E8F0FE;\n",
              "      border: none;\n",
              "      border-radius: 50%;\n",
              "      cursor: pointer;\n",
              "      display: none;\n",
              "      fill: #1967D2;\n",
              "      height: 32px;\n",
              "      padding: 0 0 0 0;\n",
              "      width: 32px;\n",
              "    }\n",
              "\n",
              "    .colab-df-convert:hover {\n",
              "      background-color: #E2EBFA;\n",
              "      box-shadow: 0px 1px 2px rgba(60, 64, 67, 0.3), 0px 1px 3px 1px rgba(60, 64, 67, 0.15);\n",
              "      fill: #174EA6;\n",
              "    }\n",
              "\n",
              "    [theme=dark] .colab-df-convert {\n",
              "      background-color: #3B4455;\n",
              "      fill: #D2E3FC;\n",
              "    }\n",
              "\n",
              "    [theme=dark] .colab-df-convert:hover {\n",
              "      background-color: #434B5C;\n",
              "      box-shadow: 0px 1px 3px 1px rgba(0, 0, 0, 0.15);\n",
              "      filter: drop-shadow(0px 1px 2px rgba(0, 0, 0, 0.3));\n",
              "      fill: #FFFFFF;\n",
              "    }\n",
              "  </style>\n",
              "\n",
              "      <script>\n",
              "        const buttonEl =\n",
              "          document.querySelector('#df-cd8183d2-b4cb-4d8f-9faa-87df51f2cd35 button.colab-df-convert');\n",
              "        buttonEl.style.display =\n",
              "          google.colab.kernel.accessAllowed ? 'block' : 'none';\n",
              "\n",
              "        async function convertToInteractive(key) {\n",
              "          const element = document.querySelector('#df-cd8183d2-b4cb-4d8f-9faa-87df51f2cd35');\n",
              "          const dataTable =\n",
              "            await google.colab.kernel.invokeFunction('convertToInteractive',\n",
              "                                                     [key], {});\n",
              "          if (!dataTable) return;\n",
              "\n",
              "          const docLinkHtml = 'Like what you see? Visit the ' +\n",
              "            '<a target=\"_blank\" href=https://colab.research.google.com/notebooks/data_table.ipynb>data table notebook</a>'\n",
              "            + ' to learn more about interactive tables.';\n",
              "          element.innerHTML = '';\n",
              "          dataTable['output_type'] = 'display_data';\n",
              "          await google.colab.output.renderOutput(dataTable, element);\n",
              "          const docLink = document.createElement('div');\n",
              "          docLink.innerHTML = docLinkHtml;\n",
              "          element.appendChild(docLink);\n",
              "        }\n",
              "      </script>\n",
              "    </div>\n",
              "  </div>\n",
              "  "
            ]
          },
          "metadata": {},
          "execution_count": 9
        }
      ]
    },
    {
      "cell_type": "markdown",
      "source": [
        "# 4 - Exploratory Data Analysis"
      ],
      "metadata": {
        "id": "l8AnEUB42a1d"
      }
    },
    {
      "cell_type": "code",
      "source": [
        "plt.figure(figsize=(12,10))\n",
        "cor = data.corr()\n",
        "sns.heatmap(cor, annot=True, cmap=plt.cm.CMRmap_r)\n",
        "plt.show()"
      ],
      "metadata": {
        "id": "Mel-O4iTZV_2",
        "colab": {
          "base_uri": "https://localhost:8080/",
          "height": 702
        },
        "outputId": "536fc4df-ce0b-4a52-f6de-634b6d11547d"
      },
      "execution_count": 10,
      "outputs": [
        {
          "output_type": "display_data",
          "data": {
            "text/plain": [
              "<Figure size 864x720 with 2 Axes>"
            ],
            "image/png": "[encoded data removed]"
          },
          "metadata": {
            "needs_background": "light"
          }
        }
      ]
    },
    {
      "cell_type": "markdown",
      "source": [
        "Pada bagian ini saya ingin melihat bagaimana korelasi antara fitur dengan target dan juga korelasi anta fitur dengan fitur, dimana dapat dilihat baik antra fitur dengan fitur ataupun fitur dengan target tidak memiliki korelasi yang tinggi."
      ],
      "metadata": {
        "id": "mjre8JiBJDCS"
      }
    },
    {
      "cell_type": "code",
      "source": [
        "plt.figure(figsize=(15, 5))\n",
        "\n",
        "plt.subplot(1, 2, 2)\n",
        "sns.scatterplot(x = '#followers', y='#follows', data=data, hue='fake')\n",
        "plt.title('Perbandingan jumlah followers dan following terhdapa sebuah akun')\n",
        "\n",
        "plt.show()"
      ],
      "metadata": {
        "colab": {
          "base_uri": "https://localhost:8080/",
          "height": 350
        },
        "id": "XUXgJ1Ie22kK",
        "outputId": "bb0d1c25-bd28-4610-9dc4-d6c471ffdcae"
      },
      "execution_count": 11,
      "outputs": [
        {
          "output_type": "display_data",
          "data": {
            "text/plain": [
              "<Figure size 1080x360 with 1 Axes>"
            ],
            "image/png": "[encoded data removed]"
          },
          "metadata": {
            "needs_background": "light"
          }
        }
      ]
    },
    {
      "cell_type": "markdown",
      "source": [
        "Dari scatterplot diatas dapat dilihat bahwa semakin dikit followers dan semakin banyak jumlah following maka ada indikasi bahwa sebuah akun dapat dikatakan fake atau spammers."
      ],
      "metadata": {
        "id": "BvbU-RbxTGu7"
      }
    },
    {
      "cell_type": "code",
      "source": [
        "plt.figure(figsize=(15, 5))\n",
        "\n",
        "plt.subplot(1, 2, 2)\n",
        "sns.scatterplot(x = 'description length', y='#posts', data=data, hue='fake')\n",
        "plt.title('Perbandingan jumlah  post dengan panjang deksripsi sebuah akun terhapa kondisi akun tersebut')\n",
        "\n",
        "plt.show()"
      ],
      "metadata": {
        "colab": {
          "base_uri": "https://localhost:8080/",
          "height": 350
        },
        "id": "06_X5aq747CG",
        "outputId": "201ab639-f7e0-4a20-cbe3-974741ca83ed"
      },
      "execution_count": 13,
      "outputs": [
        {
          "output_type": "display_data",
          "data": {
            "text/plain": [
              "<Figure size 1080x360 with 1 Axes>"
            ],
            "image/png": "[encoded data removed]"
          },
          "metadata": {
            "needs_background": "light"
          }
        }
      ]
    },
    {
      "cell_type": "markdown",
      "source": [
        "Dari scatterplot diatas dapat dilihat bahwa semakin pendek dksripsi sebuah akun ada indikasi bahwa akun dapat dikatakan fake atau spammers."
      ],
      "metadata": {
        "id": "wiet1QAKTze0"
      }
    },
    {
      "cell_type": "code",
      "source": [
        "plt.figure(figsize=(15,5))\n",
        "\n",
        "plt.subplot(1,2,2)\n",
        "sns.countplot(data['fullname words'], data=data, hue='fake')\n",
        "plt.title('Jumlah suku kata pada sebuah akun')\n",
        "\n",
        "plt.show()"
      ],
      "metadata": {
        "colab": {
          "base_uri": "https://localhost:8080/",
          "height": 407
        },
        "id": "5c2n27dM3nMt",
        "outputId": "a1f58d50-86e6-40d6-9058-ce0e147e33d6"
      },
      "execution_count": 14,
      "outputs": [
        {
          "output_type": "stream",
          "name": "stderr",
          "text": [
            "/usr/local/lib/python3.7/dist-packages/seaborn/_decorators.py:43: FutureWarning: Pass the following variable as a keyword arg: x. From version 0.12, the only valid positional argument will be `data`, and passing other arguments without an explicit keyword will result in an error or misinterpretation.\n",
            "  FutureWarning\n"
          ]
        },
        {
          "output_type": "display_data",
          "data": {
            "text/plain": [
              "<Figure size 1080x360 with 1 Axes>"
            ],
            "image/png": "[encoded data removed]"
          },
          "metadata": {
            "needs_background": "light"
          }
        }
      ]
    },
    {
      "cell_type": "markdown",
      "source": [
        "Dari visualisasi diatas dapat dilihat akun dengan satu suku kata banyak yang fake ataupun spammers."
      ],
      "metadata": {
        "id": "qBDmAOzNUczb"
      }
    },
    {
      "cell_type": "code",
      "source": [
        "def plot_histplot(df, ft) :\n",
        "    df.hist(column=[ft])\n",
        "    plt.grid(False)\n",
        "    plt.show()"
      ],
      "metadata": {
        "id": "Nfe98yYm3KTk"
      },
      "execution_count": 15,
      "outputs": []
    },
    {
      "cell_type": "markdown",
      "source": [
        "Disini saya mendefenisikan fungsi untuk melihat bagaimana persebaran data pada fitur categorical, dari hasil plot ini nanti dapat ditentukan scaling yang akan dipakai nantinya. "
      ],
      "metadata": {
        "id": "raQAQcKtU2TT"
      }
    },
    {
      "cell_type": "code",
      "source": [
        "plot_histplot(data, 'nums/length username')\n",
        "plot_histplot(data, 'fullname words')\n",
        "plot_histplot(data, 'nums/length fullname')\n",
        "plot_histplot(data, 'description length')\n",
        "plot_histplot(data, '#posts')\n",
        "plot_histplot(data, '#followers')\n",
        "plot_histplot(data, '#follows')"
      ],
      "metadata": {
        "colab": {
          "base_uri": "https://localhost:8080/",
          "height": 1000
        },
        "id": "8n3FtjhZuOui",
        "outputId": "8a1e625e-fb96-4a98-c285-df588dfb5ef4"
      },
      "execution_count": null,
      "outputs": [
        {
          "output_type": "display_data",
          "data": {
            "text/plain": [
              "<Figure size 432x288 with 1 Axes>"
            ],
            "image/png": "[encoded data removed]"
          },
          "metadata": {
            "needs_background": "light"
          }
        },
        {
          "output_type": "display_data",
          "data": {
            "text/plain": [
              "<Figure size 432x288 with 1 Axes>"
            ],
            "image/png": "[encoded data removed]"
          },
          "metadata": {
            "needs_background": "light"
          }
        },
        {
          "output_type": "display_data",
          "data": {
            "text/plain": [
              "<Figure size 432x288 with 1 Axes>"
            ],
            "image/png": "[encoded data removed]"
          },
          "metadata": {
            "needs_background": "light"
          }
        },
        {
          "output_type": "display_data",
          "data": {
            "text/plain": [
              "<Figure size 432x288 with 1 Axes>"
            ],
            "image/png": "[encoded data removed]"
          },
          "metadata": {
            "needs_background": "light"
          }
        },
        {
          "output_type": "display_data",
          "data": {
            "text/plain": [
              "<Figure size 432x288 with 1 Axes>"
            ],
            "image/png": "[encoded data removed]"
          },
          "metadata": {
            "needs_background": "light"
          }
        },
        {
          "output_type": "display_data",
          "data": {
            "text/plain": [
              "<Figure size 432x288 with 1 Axes>"
            ],
            "image/png": "[encoded data removed]"
          },
          "metadata": {
            "needs_background": "light"
          }
        },
        {
          "output_type": "display_data",
          "data": {
            "text/plain": [
              "<Figure size 432x288 with 1 Axes>"
            ],
            "image/png": "[encoded data removed]"
          },
          "metadata": {
            "needs_background": "light"
          }
        }
      ]
    },
    {
      "cell_type": "markdown",
      "source": [
        "Hasilnya adalah semua data numerical punya distribus yang tidak normal, distribusinya skew kanan. Pada proses scaling nanti akan digunakan MinMaxScaller untuk melakukan normalisasi data."
      ],
      "metadata": {
        "id": "VfNrXbj4VIhK"
      }
    },
    {
      "cell_type": "markdown",
      "source": [
        "# 5 - Data Preprocessing"
      ],
      "metadata": {
        "id": "w_D4qFxuvgT8"
      }
    },
    {
      "cell_type": "code",
      "source": [
        "X = data.drop('fake', axis=1)\n",
        "y =data['fake']"
      ],
      "metadata": {
        "id": "Hz92_USiu7qU"
      },
      "execution_count": 16,
      "outputs": []
    },
    {
      "cell_type": "markdown",
      "source": [
        "Disini data dibagi menjadi X dan y, X untuk fitur dan y untuk target."
      ],
      "metadata": {
        "id": "QUX3qnoBVdtk"
      }
    },
    {
      "cell_type": "code",
      "source": [
        "X_train, X_test, y_train, y_test = train_test_split(X, y, train_size=0.8, random_state=19)"
      ],
      "metadata": {
        "id": "Cq0k3nScv1Ty"
      },
      "execution_count": 19,
      "outputs": []
    },
    {
      "cell_type": "code",
      "source": [
        "print('Train Size:' , X_train.shape)\n",
        "print('Test Size:', X_test.shape)\n",
        "print('Test Size:', y_train.shape)\n",
        "print('Test Size:', y_test.shape)"
      ],
      "metadata": {
        "colab": {
          "base_uri": "https://localhost:8080/"
        },
        "id": "s7qKG43IwUdL",
        "outputId": "cb343809-1084-4f0c-e509-986ec12647a7"
      },
      "execution_count": 20,
      "outputs": [
        {
          "output_type": "stream",
          "name": "stdout",
          "text": [
            "Train Size: (460, 11)\n",
            "Test Size: (116, 11)\n",
            "Test Size: (460,)\n",
            "Test Size: (116,)\n"
          ]
        }
      ]
    },
    {
      "cell_type": "markdown",
      "source": [
        "Disini data dibagi menjadi train dan test dengan proporsi 80% untuk train dan 20% untuk test."
      ],
      "metadata": {
        "id": "4CwzSObHVrGL"
      }
    },
    {
      "cell_type": "markdown",
      "source": [
        "### Handling Ouliers"
      ],
      "metadata": {
        "id": "JUpbEO1cwar1"
      }
    },
    {
      "cell_type": "code",
      "source": [
        "Q1 = data.quantile(0.25)\n",
        "Q3 = data.quantile(0.75)\n",
        "IQR = Q3 - Q1\n",
        "\n",
        "((X_train < (Q1 - 1.5 * IQR)) | (X_train > (Q3 + 1.5 * IQR))).sum()"
      ],
      "metadata": {
        "colab": {
          "base_uri": "https://localhost:8080/"
        },
        "id": "ZlSaVkZBwX8L",
        "outputId": "1a95a3b4-b7eb-4fb5-e809-bd21ae3c6957"
      },
      "execution_count": 22,
      "outputs": [
        {
          "output_type": "stream",
          "name": "stderr",
          "text": [
            "/usr/local/lib/python3.7/dist-packages/ipykernel_launcher.py:5: FutureWarning: Automatic reindexing on DataFrame vs Series comparisons is deprecated and will raise ValueError in a future version.  Do `left, right = left.align(right, axis=1, copy=False)` before e.g. `left == right`\n",
            "  \"\"\"\n"
          ]
        },
        {
          "output_type": "execute_result",
          "data": {
            "text/plain": [
              "#followers              58\n",
              "#follows                34\n",
              "#posts                  58\n",
              "description length      42\n",
              "external URL             0\n",
              "fake                     0\n",
              "fullname words          12\n",
              "name==username           0\n",
              "nums/length fullname    47\n",
              "nums/length username     7\n",
              "private                  0\n",
              "profile pic              0\n",
              "dtype: int64"
            ]
          },
          "metadata": {},
          "execution_count": 22
        }
      ]
    },
    {
      "cell_type": "markdown",
      "source": [
        "Dari hasil deteksi ouliers pada X_train dapat dilihat bahwa pada semua fitur numerical terdapat banyak ouliers."
      ],
      "metadata": {
        "id": "p5G7hYwvV9cW"
      }
    },
    {
      "cell_type": "code",
      "source": [
        "((X_test < (Q1 - 1.5 * IQR)) | (X_test > (Q3 + 1.5 * IQR))).sum()"
      ],
      "metadata": {
        "colab": {
          "base_uri": "https://localhost:8080/"
        },
        "id": "_p_HtcuG0Lyq",
        "outputId": "e1651f99-c0a7-461b-b802-45b6fe8b6791"
      },
      "execution_count": 23,
      "outputs": [
        {
          "output_type": "stream",
          "name": "stderr",
          "text": [
            "/usr/local/lib/python3.7/dist-packages/ipykernel_launcher.py:1: FutureWarning: Automatic reindexing on DataFrame vs Series comparisons is deprecated and will raise ValueError in a future version.  Do `left, right = left.align(right, axis=1, copy=False)` before e.g. `left == right`\n",
            "  \"\"\"Entry point for launching an IPython kernel.\n"
          ]
        },
        {
          "output_type": "execute_result",
          "data": {
            "text/plain": [
              "#followers              17\n",
              "#follows                 6\n",
              "#posts                  19\n",
              "description length      11\n",
              "external URL             0\n",
              "fake                     0\n",
              "fullname words           3\n",
              "name==username           0\n",
              "nums/length fullname    11\n",
              "nums/length username     5\n",
              "private                  0\n",
              "profile pic              0\n",
              "dtype: int64"
            ]
          },
          "metadata": {},
          "execution_count": 23
        }
      ]
    },
    {
      "cell_type": "markdown",
      "source": [
        "Pada X_test juga terdapat outliers."
      ],
      "metadata": {
        "id": "ExokBLC0WM5r"
      }
    },
    {
      "cell_type": "code",
      "source": [
        "cap = Winsorizer(capping_method='iqr', \n",
        "                          tail='both', \n",
        "                          fold=1.5,\n",
        "                          variables=['#followers', '#follows', '#posts', 'description length', 'fullname words', 'nums/length fullname', 'nums/length username'],\n",
        "                          missing_values='ignore')\n",
        "\n",
        "cap.fit(X_train)\n",
        "\n",
        "X_train_t = cap.transform(X_train)"
      ],
      "metadata": {
        "id": "HYKx-dusxQGr"
      },
      "execution_count": 24,
      "outputs": []
    },
    {
      "cell_type": "markdown",
      "source": [
        "Karena persebaran data numerical tidak normal, maka disini untuk handling outliers saya menggunakan Winsorizer, selain itu disini saya melakukan capping karena saya tidak ingin kehilangan data."
      ],
      "metadata": {
        "id": "M_odT2H2WRys"
      }
    },
    {
      "cell_type": "code",
      "source": [
        "def plot_boxplot(df, ft) :\n",
        "    df.boxplot(column=[ft])\n",
        "    plt.grid(False)\n",
        "    plt.show()"
      ],
      "metadata": {
        "id": "yX-ebWumyb7A"
      },
      "execution_count": 25,
      "outputs": []
    },
    {
      "cell_type": "markdown",
      "source": [
        "Disini saya mendefeniskan fungsi untuk melihat hasil capping outliers dalam bentuk boxplot."
      ],
      "metadata": {
        "id": "P33gvnXQWgii"
      }
    },
    {
      "cell_type": "code",
      "source": [
        "plot_boxplot(X_train_t, 'nums/length username')\n",
        "plot_boxplot(X_train_t, 'fullname words')\n",
        "plot_boxplot(X_train_t, 'nums/length fullname')\n",
        "plot_boxplot(X_train_t, 'description length')\n",
        "plot_boxplot(X_train_t, '#posts')\n",
        "plot_boxplot(X_train_t, '#followers')\n",
        "plot_boxplot(X_train_t, '#follows')"
      ],
      "metadata": {
        "colab": {
          "base_uri": "https://localhost:8080/",
          "height": 1000
        },
        "id": "ln_0MFiUzYJ8",
        "outputId": "3ca5eeea-bfe2-4246-9ba8-b7bae2be814e"
      },
      "execution_count": 26,
      "outputs": [
        {
          "output_type": "display_data",
          "data": {
            "text/plain": [
              "<Figure size 432x288 with 1 Axes>"
            ],
            "image/png": "[encoded data removed]"
          },
          "metadata": {
            "needs_background": "light"
          }
        },
        {
          "output_type": "display_data",
          "data": {
            "text/plain": [
              "<Figure size 432x288 with 1 Axes>"
            ],
            "image/png": "[encoded data removed]"
          },
          "metadata": {
            "needs_background": "light"
          }
        },
        {
          "output_type": "display_data",
          "data": {
            "text/plain": [
              "<Figure size 432x288 with 1 Axes>"
            ],
            "image/png": "[encoded data removed]"
          },
          "metadata": {
            "needs_background": "light"
          }
        },
        {
          "output_type": "display_data",
          "data": {
            "text/plain": [
              "<Figure size 432x288 with 1 Axes>"
            ],
            "image/png": "[encoded data removed]"
          },
          "metadata": {
            "needs_background": "light"
          }
        },
        {
          "output_type": "display_data",
          "data": {
            "text/plain": [
              "<Figure size 432x288 with 1 Axes>"
            ],
            "image/png": "[encoded data removed]"
          },
          "metadata": {
            "needs_background": "light"
          }
        },
        {
          "output_type": "display_data",
          "data": {
            "text/plain": [
              "<Figure size 432x288 with 1 Axes>"
            ],
            "image/png": "[encoded data removed]"
          },
          "metadata": {
            "needs_background": "light"
          }
        },
        {
          "output_type": "display_data",
          "data": {
            "text/plain": [
              "<Figure size 432x288 with 1 Axes>"
            ],
            "image/png": "[encoded data removed]"
          },
          "metadata": {
            "needs_background": "light"
          }
        }
      ]
    },
    {
      "cell_type": "markdown",
      "source": [
        "Setelah dilakuan capping, dapat dilihat pada boxplot tidak terdapat lagi outliers."
      ],
      "metadata": {
        "id": "5A4nElTkWtNy"
      }
    },
    {
      "cell_type": "code",
      "source": [
        "cap = Winsorizer(capping_method='iqr', \n",
        "                          tail='both', \n",
        "                          fold=1.5,\n",
        "                          variables=['#followers', '#follows', '#posts', 'description length', 'fullname words', 'nums/length fullname', 'nums/length username'],\n",
        "                          missing_values='ignore')\n",
        "\n",
        "cap.fit(X_train)\n",
        "\n",
        "X_test_t = cap.transform(X_test)"
      ],
      "metadata": {
        "id": "1Fq34ngUzypK"
      },
      "execution_count": 27,
      "outputs": []
    },
    {
      "cell_type": "code",
      "source": [
        "plot_boxplot(X_test_t, 'nums/length username')\n",
        "plot_boxplot(X_test_t, 'fullname words')\n",
        "plot_boxplot(X_test_t, 'nums/length fullname')\n",
        "plot_boxplot(X_test_t, 'description length')\n",
        "plot_boxplot(X_test_t, '#posts')\n",
        "plot_boxplot(X_test_t, '#followers')\n",
        "plot_boxplot(X_test_t, '#follows')"
      ],
      "metadata": {
        "colab": {
          "base_uri": "https://localhost:8080/",
          "height": 1000
        },
        "id": "Xmebszgy0bHC",
        "outputId": "7a6a9afa-ad99-4758-c9e9-a60ff8ea3c54"
      },
      "execution_count": 28,
      "outputs": [
        {
          "output_type": "display_data",
          "data": {
            "text/plain": [
              "<Figure size 432x288 with 1 Axes>"
            ],
            "image/png": "[encoded data removed]"
          },
          "metadata": {
            "needs_background": "light"
          }
        },
        {
          "output_type": "display_data",
          "data": {
            "text/plain": [
              "<Figure size 432x288 with 1 Axes>"
            ],
            "image/png": "[encoded data removed]"
          },
          "metadata": {
            "needs_background": "light"
          }
        },
        {
          "output_type": "display_data",
          "data": {
            "text/plain": [
              "<Figure size 432x288 with 1 Axes>"
            ],
            "image/png": "[encoded data removed]"
          },
          "metadata": {
            "needs_background": "light"
          }
        },
        {
          "output_type": "display_data",
          "data": {
            "text/plain": [
              "<Figure size 432x288 with 1 Axes>"
            ],
            "image/png": "[encoded data removed]"
          },
          "metadata": {
            "needs_background": "light"
          }
        },
        {
          "output_type": "display_data",
          "data": {
            "text/plain": [
              "<Figure size 432x288 with 1 Axes>"
            ],
            "image/png": "[encoded data removed]"
          },
          "metadata": {
            "needs_background": "light"
          }
        },
        {
          "output_type": "display_data",
          "data": {
            "text/plain": [
              "<Figure size 432x288 with 1 Axes>"
            ],
            "image/png": "[encoded data removed]"
          },
          "metadata": {
            "needs_background": "light"
          }
        },
        {
          "output_type": "display_data",
          "data": {
            "text/plain": [
              "<Figure size 432x288 with 1 Axes>"
            ],
            "image/png": "[encoded data removed]"
          },
          "metadata": {
            "needs_background": "light"
          }
        }
      ]
    },
    {
      "cell_type": "markdown",
      "source": [
        "Pada X_test juga dilakukan handling yang sama dengan X_train."
      ],
      "metadata": {
        "id": "kC2CauxTW2Ve"
      }
    },
    {
      "cell_type": "markdown",
      "source": [
        "## Handling Missing Values"
      ],
      "metadata": {
        "id": "WXXk1gKB0iwZ"
      }
    },
    {
      "cell_type": "code",
      "source": [
        "X_train_t.isnull().sum()"
      ],
      "metadata": {
        "colab": {
          "base_uri": "https://localhost:8080/"
        },
        "id": "JLKTFKCn0lhH",
        "outputId": "720b0e98-c2ec-4f0e-bc85-eb12602ea2e5"
      },
      "execution_count": 29,
      "outputs": [
        {
          "output_type": "execute_result",
          "data": {
            "text/plain": [
              "profile pic             0\n",
              "nums/length username    0\n",
              "fullname words          0\n",
              "nums/length fullname    0\n",
              "name==username          0\n",
              "description length      0\n",
              "external URL            0\n",
              "private                 0\n",
              "#posts                  0\n",
              "#followers              0\n",
              "#follows                0\n",
              "dtype: int64"
            ]
          },
          "metadata": {},
          "execution_count": 29
        }
      ]
    },
    {
      "cell_type": "code",
      "source": [
        "X_test_t.isnull().sum()"
      ],
      "metadata": {
        "colab": {
          "base_uri": "https://localhost:8080/"
        },
        "id": "3zyYLL9k0pqC",
        "outputId": "a1e23bd0-d250-4ac8-a79f-6f6944c9d65c"
      },
      "execution_count": 30,
      "outputs": [
        {
          "output_type": "execute_result",
          "data": {
            "text/plain": [
              "profile pic             0\n",
              "nums/length username    0\n",
              "fullname words          0\n",
              "nums/length fullname    0\n",
              "name==username          0\n",
              "description length      0\n",
              "external URL            0\n",
              "private                 0\n",
              "#posts                  0\n",
              "#followers              0\n",
              "#follows                0\n",
              "dtype: int64"
            ]
          },
          "metadata": {},
          "execution_count": 30
        }
      ]
    },
    {
      "cell_type": "code",
      "source": [
        "y_train.isnull().sum()"
      ],
      "metadata": {
        "colab": {
          "base_uri": "https://localhost:8080/"
        },
        "id": "iS_KadpW0txh",
        "outputId": "8e682060-d1c4-42a4-bb83-807cbe211c82"
      },
      "execution_count": 31,
      "outputs": [
        {
          "output_type": "execute_result",
          "data": {
            "text/plain": [
              "0"
            ]
          },
          "metadata": {},
          "execution_count": 31
        }
      ]
    },
    {
      "cell_type": "code",
      "source": [
        "y_test.isnull().sum()"
      ],
      "metadata": {
        "colab": {
          "base_uri": "https://localhost:8080/"
        },
        "id": "7EIhdll60y2S",
        "outputId": "6f476170-9758-4bee-a366-cd345abdc828"
      },
      "execution_count": 32,
      "outputs": [
        {
          "output_type": "execute_result",
          "data": {
            "text/plain": [
              "0"
            ]
          },
          "metadata": {},
          "execution_count": 32
        }
      ]
    },
    {
      "cell_type": "markdown",
      "source": [
        "Setelah dilakukan penegcekan missing values, ternyata tidak ada missing values baik pada data X maupun y."
      ],
      "metadata": {
        "id": "MzSm2SYHXQLz"
      }
    },
    {
      "cell_type": "markdown",
      "source": [
        "## Feature Selection"
      ],
      "metadata": {
        "id": "IfVrfIms1Ghp"
      }
    },
    {
      "cell_type": "code",
      "source": [
        "X_train_cleaned = X_train_t.drop(['nums/length username', 'fullname words', 'nums/length fullname'], axis=1)\n",
        "X_test_cleaned = X_test_t.drop(['nums/length username', 'fullname words', 'nums/length fullname'], axis=1)"
      ],
      "metadata": {
        "id": "2u1fGXxu03TS"
      },
      "execution_count": 33,
      "outputs": []
    },
    {
      "cell_type": "markdown",
      "source": [
        "Disini saya tidak akan memakai fitur 'nums/length username', 'fullname words'dan 'nums/length fullname'. Karena menurut saya jumlah suku kata ppada nama dan rasio nama tidak akan terlalu mempengaruhi sebuah akun fake atau tidak."
      ],
      "metadata": {
        "id": "0SuhlNcKXg4Z"
      }
    },
    {
      "cell_type": "markdown",
      "source": [
        "## Feature Scaling and Encoding"
      ],
      "metadata": {
        "id": "8j-08zcQ2EsK"
      }
    },
    {
      "cell_type": "markdown",
      "source": [
        "### Split numerical and categorical feature"
      ],
      "metadata": {
        "id": "1Riiwhl3Xz4L"
      }
    },
    {
      "cell_type": "code",
      "source": [
        "num_columns = X_train_cleaned.select_dtypes(include=np.number).columns.tolist()\n",
        "cat_columns = X_train_cleaned.select_dtypes(include=['object']).columns.tolist()\n",
        "\n",
        "print('Numerical Columns : ', num_columns)\n",
        "print('Categorical COlumns :', cat_columns)"
      ],
      "metadata": {
        "colab": {
          "base_uri": "https://localhost:8080/"
        },
        "id": "_8tEg-p-2uKb",
        "outputId": "06b553ae-fe38-4fb5-af70-5ac84e0e8ac5"
      },
      "execution_count": 34,
      "outputs": [
        {
          "output_type": "stream",
          "name": "stdout",
          "text": [
            "Numerical Columns :  ['description length', '#posts', '#followers', '#follows']\n",
            "Categorical COlumns : ['profile pic', 'name==username', 'external URL', 'private']\n"
          ]
        }
      ]
    },
    {
      "cell_type": "code",
      "source": [
        "X_train_num = X_train_cleaned[num_columns]\n",
        "X_train_cat = X_train_cleaned[cat_columns]\n",
        "\n",
        "X_test_num = X_test_cleaned[num_columns]\n",
        "X_test_cat = X_test_cleaned[cat_columns]"
      ],
      "metadata": {
        "id": "S0hQqvNy22ti"
      },
      "execution_count": 35,
      "outputs": []
    },
    {
      "cell_type": "markdown",
      "source": [
        "Disini sebelum melakukan scaling dan encoding data akan dipisahkan dulu kedalam bentuk nuerical dan categorical."
      ],
      "metadata": {
        "id": "lyA0UIiZX7YC"
      }
    },
    {
      "cell_type": "markdown",
      "source": [
        "### Scaling"
      ],
      "metadata": {
        "id": "9Xf6ajRA3BgS"
      }
    },
    {
      "cell_type": "code",
      "source": [
        "scaler = MinMaxScaler()\n",
        "\n",
        "scaler.fit(X_train_num)\n",
        "\n",
        "X_train_num_scaled = scaler.fit_transform(X_train_num)\n",
        "X_test_num_scaled = scaler.transform(X_test_num)\n",
        "\n",
        "X_train_num_scaled"
      ],
      "metadata": {
        "colab": {
          "base_uri": "https://localhost:8080/"
        },
        "id": "7naq5yEP2tqq",
        "outputId": "cc16cb38-c059-4a6c-dc50-d0303e445bf1"
      },
      "execution_count": 36,
      "outputs": [
        {
          "output_type": "execute_result",
          "data": {
            "text/plain": [
              "array([[0.        , 0.        , 0.02708471, 0.00290355],\n",
              "       [0.        , 0.        , 0.        , 0.61918156],\n",
              "       [0.57333333, 0.00519481, 0.1560315 , 0.26930406],\n",
              "       ...,\n",
              "       [0.        , 0.        , 0.01943034, 0.00290355],\n",
              "       [1.        , 1.        , 1.        , 0.56328827],\n",
              "       [0.        , 0.15064935, 0.01471995, 0.02830959]])"
            ]
          },
          "metadata": {},
          "execution_count": 36
        }
      ]
    },
    {
      "cell_type": "markdown",
      "source": [
        "Untuk scaling saya menggunakan MinMaxScaller karena persebaran data yang tidak normal karena MinMaxScaller m=bisa melakukan normalisasai data."
      ],
      "metadata": {
        "id": "sb9VRM1dYOXX"
      }
    },
    {
      "cell_type": "markdown",
      "source": [
        "### Encoding"
      ],
      "metadata": {
        "id": "L2o6h9HB3evL"
      }
    },
    {
      "cell_type": "code",
      "source": [
        "encoder = OneHotEncoder(handle_unknown = 'ignore')\n",
        "X_train_cat_enc = encoder.fit_transform(X_train_cat).toarray()\n",
        "X_test_cat_enc = encoder.transform(X_test_cat).toarray()\n",
        "\n",
        "X_train_cat_enc"
      ],
      "metadata": {
        "colab": {
          "base_uri": "https://localhost:8080/"
        },
        "id": "njSYiee93gY_",
        "outputId": "9426fc7c-08d9-4a12-e938-7a860dc0b1c2"
      },
      "execution_count": 37,
      "outputs": [
        {
          "output_type": "execute_result",
          "data": {
            "text/plain": [
              "array([[0., 1., 0., ..., 1., 0., 1.],\n",
              "       [0., 1., 0., ..., 1., 1., 0.],\n",
              "       [1., 0., 0., ..., 1., 1., 0.],\n",
              "       ...,\n",
              "       [0., 1., 0., ..., 1., 0., 1.],\n",
              "       [1., 0., 0., ..., 0., 0., 1.],\n",
              "       [1., 0., 0., ..., 1., 1., 0.]])"
            ]
          },
          "metadata": {},
          "execution_count": 37
        }
      ]
    },
    {
      "cell_type": "markdown",
      "source": [
        "Untuk endocing saya menggunakan OneHOtEncoder karena data categorical bukan data yang bertingkat."
      ],
      "metadata": {
        "id": "tP6ii1vyYiuv"
      }
    },
    {
      "cell_type": "code",
      "source": [
        "X_train_final = np.concatenate([X_train_num_scaled, X_train_cat_enc], axis=1)\n",
        "X_test_final = np.concatenate([X_test_num_scaled, X_test_cat_enc], axis=1)"
      ],
      "metadata": {
        "id": "5UE12jag3vxR"
      },
      "execution_count": 39,
      "outputs": []
    },
    {
      "cell_type": "code",
      "source": [
        "print(X_train_final.shape)\n",
        "print(X_test_final.shape)"
      ],
      "metadata": {
        "colab": {
          "base_uri": "https://localhost:8080/"
        },
        "id": "xfW8UFMP3yy6",
        "outputId": "526803ef-7c98-428d-9904-8051a0a28035"
      },
      "execution_count": 40,
      "outputs": [
        {
          "output_type": "stream",
          "name": "stdout",
          "text": [
            "(460, 12)\n",
            "(116, 12)\n"
          ]
        }
      ]
    },
    {
      "cell_type": "markdown",
      "source": [
        "## PCA"
      ],
      "metadata": {
        "id": "u1lZZmOl3_qP"
      }
    },
    {
      "cell_type": "code",
      "source": [
        "pca=PCA(whiten=True)\n",
        "pca.fit(X_train_final)\n",
        "cumsum = np.cumsum(pca.explained_variance_ratio_)\n",
        "\n",
        "plt.figure()\n",
        "plt.plot(cumsum)"
      ],
      "metadata": {
        "colab": {
          "base_uri": "https://localhost:8080/",
          "height": 283
        },
        "id": "Xa6o4aWg32Fi",
        "outputId": "828e0bef-4784-4c4b-91b3-11f2b098fb2c"
      },
      "execution_count": 41,
      "outputs": [
        {
          "output_type": "execute_result",
          "data": {
            "text/plain": [
              "[<matplotlib.lines.Line2D at 0x7f15bfcc82d0>]"
            ]
          },
          "metadata": {},
          "execution_count": 41
        },
        {
          "output_type": "display_data",
          "data": {
            "text/plain": [
              "<Figure size 432x288 with 1 Axes>"
            ],
            "image/png": "[encoded data removed]"
          },
          "metadata": {
            "needs_background": "light"
          }
        }
      ]
    },
    {
      "cell_type": "markdown",
      "source": [
        "Disini saya juga melakukan PCA untuk mereduksi dimensi data dengan hasil dimensi terbaik adalah 3."
      ],
      "metadata": {
        "id": "KOPdoensYy8D"
      }
    },
    {
      "cell_type": "code",
      "source": [
        "print(np.sum(pca.explained_variance_ratio_))\n",
        "print(pca.n_components_)\n",
        "print(np.sum(pca.explained_variance_ratio_))"
      ],
      "metadata": {
        "colab": {
          "base_uri": "https://localhost:8080/"
        },
        "id": "cta9ZWa34wRA",
        "outputId": "1849344b-8e79-42df-d262-6f41625fd264"
      },
      "execution_count": 47,
      "outputs": [
        {
          "output_type": "stream",
          "name": "stdout",
          "text": [
            "1.0\n",
            "12\n",
            "1.0\n"
          ]
        }
      ]
    },
    {
      "cell_type": "markdown",
      "source": [
        "Setelah dilakukan pengecekan ternya hasil terbaik memang 3."
      ],
      "metadata": {
        "id": "gLnex2C8Y9FS"
      }
    },
    {
      "cell_type": "code",
      "source": [
        "X_train_pca=PCA(n_components=3).fit_transform(X_train_final)\n",
        "X_test_pca=PCA(n_components=3).fit_transform(X_test_final)"
      ],
      "metadata": {
        "id": "00Zc1h_p4yni"
      },
      "execution_count": 48,
      "outputs": []
    },
    {
      "cell_type": "code",
      "source": [
        "print(X_train_pca.shape)\n",
        "print(X_test_pca.shape)"
      ],
      "metadata": {
        "colab": {
          "base_uri": "https://localhost:8080/"
        },
        "id": "h90PhQcZ5gLz",
        "outputId": "6d238a9e-2184-4a0f-b025-70dd101bd03e"
      },
      "execution_count": 49,
      "outputs": [
        {
          "output_type": "stream",
          "name": "stdout",
          "text": [
            "(460, 3)\n",
            "(116, 3)\n"
          ]
        }
      ]
    },
    {
      "cell_type": "markdown",
      "source": [
        "Dan hasilnya data pca dengan 3 dimensi."
      ],
      "metadata": {
        "id": "97F9y1osZEgV"
      }
    },
    {
      "cell_type": "markdown",
      "source": [
        "# 6 - Model Defenition"
      ],
      "metadata": {
        "id": "87LbRI5R5tV6"
      }
    },
    {
      "cell_type": "markdown",
      "source": [
        "Untuk model saya menggunakan SVM dan Random Forest Classifier, nantnya model terbaiklah yang akan digunakan."
      ],
      "metadata": {
        "id": "GH7OaNlwZJai"
      }
    },
    {
      "cell_type": "markdown",
      "source": [
        "## SVM Classifier"
      ],
      "metadata": {
        "id": "rz8o8edk6Tby"
      }
    },
    {
      "cell_type": "code",
      "source": [
        "model_svc=SVC()"
      ],
      "metadata": {
        "id": "XO5vW3EC5u7w"
      },
      "execution_count": 42,
      "outputs": []
    },
    {
      "cell_type": "markdown",
      "source": [
        "## Random Forest Classifier"
      ],
      "metadata": {
        "id": "dEE8CRXb6YcC"
      }
    },
    {
      "cell_type": "code",
      "source": [
        "model_rfc = RandomForestClassifier()"
      ],
      "metadata": {
        "id": "MW0akzKq6ASC"
      },
      "execution_count": 43,
      "outputs": []
    },
    {
      "cell_type": "markdown",
      "source": [
        "# 7 - Model Training"
      ],
      "metadata": {
        "id": "qLJPhTrD6eIi"
      }
    },
    {
      "cell_type": "markdown",
      "source": [
        "## SVM Classifier"
      ],
      "metadata": {
        "id": "jH00jP3P6qUJ"
      }
    },
    {
      "cell_type": "code",
      "source": [
        "model_svc.fit(X_train_final, y_train)\n",
        "y_pred_svc=model_svc.predict(X_test_final)"
      ],
      "metadata": {
        "id": "YavIBtNf6g_w"
      },
      "execution_count": 44,
      "outputs": []
    },
    {
      "cell_type": "markdown",
      "source": [
        "## Random Forest Classifier "
      ],
      "metadata": {
        "id": "q1elH7-S60rR"
      }
    },
    {
      "cell_type": "code",
      "source": [
        "model_rfc.fit(X_train_final, y_train)\n",
        "y_pred_rfc=model_rfc.predict(X_test_final)"
      ],
      "metadata": {
        "id": "kEeXyi_Y60Ji"
      },
      "execution_count": 45,
      "outputs": []
    },
    {
      "cell_type": "markdown",
      "source": [
        "Disini model di train dengan data yang sudah di scaling dan di encoding.  "
      ],
      "metadata": {
        "id": "WZeWnr6fZZdy"
      }
    },
    {
      "cell_type": "markdown",
      "source": [
        "## SVM Classifier PCA"
      ],
      "metadata": {
        "id": "ztGEdUCw6_Ey"
      }
    },
    {
      "cell_type": "code",
      "source": [
        "model_svc.fit(X_train_pca, y_train)\n",
        "y_pred_svc_pca=model_svc.predict(X_test_pca)"
      ],
      "metadata": {
        "id": "4eFpC2I07B9q"
      },
      "execution_count": 50,
      "outputs": []
    },
    {
      "cell_type": "markdown",
      "source": [
        "## Random Forest Classifier PCA"
      ],
      "metadata": {
        "id": "GjrB2q5K7CwT"
      }
    },
    {
      "cell_type": "code",
      "source": [
        "model_rfc.fit(X_train_pca, y_train)\n",
        "y_pred_rfc_pca=model_rfc.predict(X_test_pca)"
      ],
      "metadata": {
        "id": "b_xbN-_l7ICK"
      },
      "execution_count": 51,
      "outputs": []
    },
    {
      "cell_type": "markdown",
      "source": [
        "Selain itu model juga di train dengan data yang sudah direduksi menggunakan PCA. "
      ],
      "metadata": {
        "id": "fz_2c_64ZsZT"
      }
    },
    {
      "cell_type": "markdown",
      "source": [
        "# 8 - Model Evaluation"
      ],
      "metadata": {
        "id": "TLeodDU97je7"
      }
    },
    {
      "cell_type": "markdown",
      "source": [
        "## SVM"
      ],
      "metadata": {
        "id": "e1R76OMB8JFW"
      }
    },
    {
      "cell_type": "code",
      "source": [
        "print(accuracy_score(y_test, y_pred_svc))\n",
        "print(classification_report(y_test, y_pred_svc))"
      ],
      "metadata": {
        "colab": {
          "base_uri": "https://localhost:8080/"
        },
        "id": "ycb0pbzz7oSv",
        "outputId": "bec34a21-aeb5-48ed-d82e-dc5d6b5dac35"
      },
      "execution_count": 52,
      "outputs": [
        {
          "output_type": "stream",
          "name": "stdout",
          "text": [
            "0.8706896551724138\n",
            "              precision    recall  f1-score   support\n",
            "\n",
            "           0       0.92      0.84      0.88        64\n",
            "           1       0.82      0.90      0.86        52\n",
            "\n",
            "    accuracy                           0.87       116\n",
            "   macro avg       0.87      0.87      0.87       116\n",
            "weighted avg       0.87      0.87      0.87       116\n",
            "\n"
          ]
        }
      ]
    },
    {
      "cell_type": "markdown",
      "source": [
        "## SVM PCA"
      ],
      "metadata": {
        "id": "NISEftJu8K8V"
      }
    },
    {
      "cell_type": "code",
      "source": [
        "print(accuracy_score(y_test, y_pred_svc_pca))\n",
        "print(classification_report(y_test, y_pred_svc_pca))"
      ],
      "metadata": {
        "colab": {
          "base_uri": "https://localhost:8080/"
        },
        "id": "DgIE1dA878CB",
        "outputId": "4201ec57-2e32-44ea-8c73-e2701a4595fc"
      },
      "execution_count": 53,
      "outputs": [
        {
          "output_type": "stream",
          "name": "stdout",
          "text": [
            "0.8017241379310345\n",
            "              precision    recall  f1-score   support\n",
            "\n",
            "           0       0.92      0.70      0.80        64\n",
            "           1       0.72      0.92      0.81        52\n",
            "\n",
            "    accuracy                           0.80       116\n",
            "   macro avg       0.82      0.81      0.80       116\n",
            "weighted avg       0.83      0.80      0.80       116\n",
            "\n"
          ]
        }
      ]
    },
    {
      "cell_type": "markdown",
      "source": [
        "Untuk model SVM ternyata hasil evaluasi yang menggunakan classification report menunjukan bahwa model yang tidak menggunakan PCA memilki peforma yang lebih baik. "
      ],
      "metadata": {
        "id": "LUxHe5p6Z6wH"
      }
    },
    {
      "cell_type": "markdown",
      "source": [
        "## Random Forest Classifier"
      ],
      "metadata": {
        "id": "kWwXYiyu8V1i"
      }
    },
    {
      "cell_type": "code",
      "source": [
        "print(accuracy_score(y_test, y_pred_rfc))\n",
        "print(classification_report(y_test, y_pred_rfc))"
      ],
      "metadata": {
        "colab": {
          "base_uri": "https://localhost:8080/"
        },
        "id": "Y9fjP5wP8Z2A",
        "outputId": "41af00a1-17c3-4935-c306-afc24d66dca4"
      },
      "execution_count": 54,
      "outputs": [
        {
          "output_type": "stream",
          "name": "stdout",
          "text": [
            "0.9137931034482759\n",
            "              precision    recall  f1-score   support\n",
            "\n",
            "           0       0.94      0.91      0.92        64\n",
            "           1       0.89      0.92      0.91        52\n",
            "\n",
            "    accuracy                           0.91       116\n",
            "   macro avg       0.91      0.91      0.91       116\n",
            "weighted avg       0.91      0.91      0.91       116\n",
            "\n"
          ]
        }
      ]
    },
    {
      "cell_type": "markdown",
      "source": [
        "## Random Forest Classifier PCA "
      ],
      "metadata": {
        "id": "fW2wcqRzajNq"
      }
    },
    {
      "cell_type": "code",
      "source": [
        "print(accuracy_score(y_test, y_pred_rfc_pca))\n",
        "print(classification_report(y_test, y_pred_rfc_pca))"
      ],
      "metadata": {
        "colab": {
          "base_uri": "https://localhost:8080/"
        },
        "id": "r7iJ6CFI8cGN",
        "outputId": "382b0e5c-0a57-4084-e51e-330e3286ea97"
      },
      "execution_count": 55,
      "outputs": [
        {
          "output_type": "stream",
          "name": "stdout",
          "text": [
            "0.75\n",
            "              precision    recall  f1-score   support\n",
            "\n",
            "           0       0.91      0.61      0.73        64\n",
            "           1       0.66      0.92      0.77        52\n",
            "\n",
            "    accuracy                           0.75       116\n",
            "   macro avg       0.78      0.77      0.75       116\n",
            "weighted avg       0.80      0.75      0.75       116\n",
            "\n"
          ]
        }
      ]
    },
    {
      "cell_type": "markdown",
      "source": [
        "Untuk model Random Forest Classifier, sama dengan SVM ternyata hasil evaluasi yang menggunakan classification report menunjukan bahwa model yang tidak menggunakan PCA memilki peforma yang lebih baik."
      ],
      "metadata": {
        "id": "VEf6jzbXaZ1C"
      }
    },
    {
      "cell_type": "markdown",
      "source": [
        "Dari kedua model yang telah di train, ternyata Random Forest Classifier adalah yang terbaik, maka Random Forest Classifier lah yang akan dideploy."
      ],
      "metadata": {
        "id": "EpSodHAra_ts"
      }
    },
    {
      "cell_type": "markdown",
      "source": [
        "# 9 - Hyper Parameter Tuning"
      ],
      "metadata": {
        "id": "GJtvSdn19bC3"
      }
    },
    {
      "cell_type": "code",
      "source": [
        "param_grid = [\n",
        "    {'criterion':['gini', 'entropy'], 'max_depth':[4, 5, 19, 97, 100], 'n_estimators':[20, 40, 60, 80]}\n",
        "\n",
        "  ]\n",
        "rfc_class = RandomForestClassifier()\n",
        "\n",
        "grid_search_rfc = GridSearchCV(rfc_class, param_grid, cv=10)\n",
        "grid_search_rfc.fit(X_train_final, y_train)"
      ],
      "metadata": {
        "colab": {
          "base_uri": "https://localhost:8080/"
        },
        "id": "j4KpxiQu8dyL",
        "outputId": "98820be4-5cbd-45b5-a43e-2ac46ab72f89"
      },
      "execution_count": 65,
      "outputs": [
        {
          "output_type": "execute_result",
          "data": {
            "text/plain": [
              "GridSearchCV(cv=10, estimator=RandomForestClassifier(),\n",
              "             param_grid=[{'criterion': ['gini', 'entropy'],\n",
              "                          'max_depth': [4, 5, 19, 97, 100],\n",
              "                          'n_estimators': [20, 40, 60, 80]}])"
            ]
          },
          "metadata": {},
          "execution_count": 65
        }
      ]
    },
    {
      "cell_type": "markdown",
      "source": [
        "Disini saya melakukan Hyper Parameter Tuning untuk mementukan parameter terbaik yang akan digunakan pada model Random Forest Classifier."
      ],
      "metadata": {
        "id": "pZLSJ81MbsEU"
      }
    },
    {
      "cell_type": "code",
      "source": [
        "grid_search_rfc.best_params_"
      ],
      "metadata": {
        "colab": {
          "base_uri": "https://localhost:8080/"
        },
        "id": "iPna-2GR-ppc",
        "outputId": "2a0a103d-b2b2-4ec6-a0f6-00e9e75e6eaf"
      },
      "execution_count": 66,
      "outputs": [
        {
          "output_type": "execute_result",
          "data": {
            "text/plain": [
              "{'criterion': 'entropy', 'max_depth': 19, 'n_estimators': 40}"
            ]
          },
          "metadata": {},
          "execution_count": 66
        }
      ]
    },
    {
      "cell_type": "markdown",
      "source": [
        "Dan hasil best parametrnya adalah 'criterion': 'entropy', 'max_depth': 19, 'n_estimators': 40"
      ],
      "metadata": {
        "id": "iJ6kzzuwcxs1"
      }
    },
    {
      "cell_type": "code",
      "source": [
        "model_rfc_new = RandomForestClassifier(criterion='entropy', max_depth=19, n_estimators=40)\n",
        "model_rfc_new.fit(X_train_final, y_train)\n",
        "y_pred_rfc_new=model_rfc_new.predict(X_test_final)"
      ],
      "metadata": {
        "id": "s4WR4tXn-rpr"
      },
      "execution_count": 67,
      "outputs": []
    },
    {
      "cell_type": "markdown",
      "source": [
        "Setelah itu model denga parameter terbaik di train dengan data."
      ],
      "metadata": {
        "id": "dSzdP4dFc5rW"
      }
    },
    {
      "cell_type": "code",
      "source": [
        "print(accuracy_score(y_test, y_pred_rfc_new))\n",
        "print(classification_report(y_test, y_pred_rfc_new))"
      ],
      "metadata": {
        "colab": {
          "base_uri": "https://localhost:8080/"
        },
        "id": "T2xUESbW_FL6",
        "outputId": "03f6374c-4f23-4aed-9114-71ae9c5a245c"
      },
      "execution_count": 64,
      "outputs": [
        {
          "output_type": "stream",
          "name": "stdout",
          "text": [
            "0.8793103448275862\n",
            "              precision    recall  f1-score   support\n",
            "\n",
            "           0       0.88      0.91      0.89        64\n",
            "           1       0.88      0.85      0.86        52\n",
            "\n",
            "    accuracy                           0.88       116\n",
            "   macro avg       0.88      0.88      0.88       116\n",
            "weighted avg       0.88      0.88      0.88       116\n",
            "\n"
          ]
        }
      ]
    },
    {
      "cell_type": "markdown",
      "source": [
        "Dan hasilnya adalah ternyata model yang telah di tuning hasilnay tidak lebih baik dari pada model defalut hal ini dapat dilihat dengan membandinkan dengan peforma model default, oleh karena itu saya akan tetap menggunakan model default."
      ],
      "metadata": {
        "id": "TA9yBCSpdDA7"
      }
    },
    {
      "cell_type": "code",
      "source": [
        "print(accuracy_score(y_test, y_pred_rfc))\n",
        "print(classification_report(y_test, y_pred_rfc))"
      ],
      "metadata": {
        "colab": {
          "base_uri": "https://localhost:8080/"
        },
        "id": "-3OafudJ_MXS",
        "outputId": "cf705fe2-500a-4147-8457-e9f718a142a9"
      },
      "execution_count": 68,
      "outputs": [
        {
          "output_type": "stream",
          "name": "stdout",
          "text": [
            "0.9137931034482759\n",
            "              precision    recall  f1-score   support\n",
            "\n",
            "           0       0.94      0.91      0.92        64\n",
            "           1       0.89      0.92      0.91        52\n",
            "\n",
            "    accuracy                           0.91       116\n",
            "   macro avg       0.91      0.91      0.91       116\n",
            "weighted avg       0.91      0.91      0.91       116\n",
            "\n"
          ]
        }
      ]
    },
    {
      "cell_type": "markdown",
      "source": [
        "# 10 - Model Inference"
      ],
      "metadata": {
        "id": "M13-VwlyHKe6"
      }
    },
    {
      "cell_type": "code",
      "source": [
        "data_inf = data.sample(10, random_state=19)"
      ],
      "metadata": {
        "id": "0Vx0ukFnHNSH"
      },
      "execution_count": 87,
      "outputs": []
    },
    {
      "cell_type": "code",
      "source": [
        "inf_t = data_inf.drop(['nums/length username', 'fullname words', 'nums/length fullname', 'fake'], axis=1)"
      ],
      "metadata": {
        "id": "wmJRbVEGHYN8"
      },
      "execution_count": 88,
      "outputs": []
    },
    {
      "cell_type": "code",
      "source": [
        "num_columns_inf = inf_t.select_dtypes(include=np.number).columns.tolist()\n",
        "cat_columns_inf = inf_t.select_dtypes(include=['object']).columns.tolist()"
      ],
      "metadata": {
        "id": "e3K8mttsHkOz"
      },
      "execution_count": 89,
      "outputs": []
    },
    {
      "cell_type": "code",
      "source": [
        "data_inf_num = data_inf[num_columns_inf]\n",
        "data_inf_cat = data_inf[cat_columns_inf]"
      ],
      "metadata": {
        "id": "4BYj_EtdHw_b"
      },
      "execution_count": 90,
      "outputs": []
    },
    {
      "cell_type": "code",
      "source": [
        "scaler = MinMaxScaler()\n",
        "scaler.fit(data_inf_num)\n",
        "data_inf_num_scaled = scaler.transform(data_inf_num)"
      ],
      "metadata": {
        "id": "OhxZ5X96H4PC"
      },
      "execution_count": 91,
      "outputs": []
    },
    {
      "cell_type": "code",
      "source": [
        "encoder_t = OneHotEncoder(handle_unknown = 'ignore')\n",
        "encoder_t.fit(data_inf_cat)\n",
        "data_inf_cat_enc = encoder_t.transform(data_inf_cat).toarray()"
      ],
      "metadata": {
        "id": "zPiFS8aSH-SF"
      },
      "execution_count": 92,
      "outputs": []
    },
    {
      "cell_type": "code",
      "source": [
        "data_inf_final = np.concatenate([data_inf_num_scaled, data_inf_cat_enc], axis=1)"
      ],
      "metadata": {
        "id": "jJ_ndrc4IFbR"
      },
      "execution_count": 93,
      "outputs": []
    },
    {
      "cell_type": "code",
      "source": [
        "y_pred_inf = model_rfc_new.predict(data_inf_final)"
      ],
      "metadata": {
        "id": "qUIYary6IKb1"
      },
      "execution_count": 94,
      "outputs": []
    },
    {
      "cell_type": "code",
      "source": [
        "y_pred_inf_df = pd.DataFrame(y_pred_inf, columns=['Fake Account - Predicrion'])\n",
        "y_pred_inf_df"
      ],
      "metadata": {
        "colab": {
          "base_uri": "https://localhost:8080/",
          "height": 363
        },
        "id": "yUv87m7OIK47",
        "outputId": "692ea9bb-d1a4-4932-afcd-81c0f3488f27"
      },
      "execution_count": 95,
      "outputs": [
        {
          "output_type": "execute_result",
          "data": {
            "text/plain": [
              "   Fake Account - Predicrion\n",
              "0                          1\n",
              "1                          1\n",
              "2                          1\n",
              "3                          1\n",
              "4                          0\n",
              "5                          1\n",
              "6                          1\n",
              "7                          1\n",
              "8                          1\n",
              "9                          1"
            ],
            "text/html": [
              "\n",
              "  <div id=\"df-e1a862e5-70eb-4a68-9ef5-d3efcd00c889\">\n",
              "    <div class=\"colab-df-container\">\n",
              "      <div>\n",
              "<style scoped>\n",
              "    .dataframe tbody tr th:only-of-type {\n",
              "        vertical-align: middle;\n",
              "    }\n",
              "\n",
              "    .dataframe tbody tr th {\n",
              "        vertical-align: top;\n",
              "    }\n",
              "\n",
              "    .dataframe thead th {\n",
              "        text-align: right;\n",
              "    }\n",
              "</style>\n",
              "<table border=\"1\" class=\"dataframe\">\n",
              "  <thead>\n",
              "    <tr style=\"text-align: right;\">\n",
              "      <th></th>\n",
              "      <th>Fake Account - Predicrion</th>\n",
              "    </tr>\n",
              "  </thead>\n",
              "  <tbody>\n",
              "    <tr>\n",
              "      <th>0</th>\n",
              "      <td>1</td>\n",
              "    </tr>\n",
              "    <tr>\n",
              "      <th>1</th>\n",
              "      <td>1</td>\n",
              "    </tr>\n",
              "    <tr>\n",
              "      <th>2</th>\n",
              "      <td>1</td>\n",
              "    </tr>\n",
              "    <tr>\n",
              "      <th>3</th>\n",
              "      <td>1</td>\n",
              "    </tr>\n",
              "    <tr>\n",
              "      <th>4</th>\n",
              "      <td>0</td>\n",
              "    </tr>\n",
              "    <tr>\n",
              "      <th>5</th>\n",
              "      <td>1</td>\n",
              "    </tr>\n",
              "    <tr>\n",
              "      <th>6</th>\n",
              "      <td>1</td>\n",
              "    </tr>\n",
              "    <tr>\n",
              "      <th>7</th>\n",
              "      <td>1</td>\n",
              "    </tr>\n",
              "    <tr>\n",
              "      <th>8</th>\n",
              "      <td>1</td>\n",
              "    </tr>\n",
              "    <tr>\n",
              "      <th>9</th>\n",
              "      <td>1</td>\n",
              "    </tr>\n",
              "  </tbody>\n",
              "</table>\n",
              "</div>\n",
              "      <button class=\"colab-df-convert\" onclick=\"convertToInteractive('df-e1a862e5-70eb-4a68-9ef5-d3efcd00c889')\"\n",
              "              title=\"Convert this dataframe to an interactive table.\"\n",
              "              style=\"display:none;\">\n",
              "        \n",
              "  <svg xmlns=\"http://www.w3.org/2000/svg\" height=\"24px\"viewBox=\"0 0 24 24\"\n",
              "       width=\"24px\">\n",
              "    <path d=\"M0 0h24v24H0V0z\" fill=\"none\"/>\n",
              "    <path d=\"M18.56 5.44l.94 2.06.94-2.06 2.06-.94-2.06-.94-.94-2.06-.94 2.06-2.06.94zm-11 1L8.5 8.5l.94-2.06 2.06-.94-2.06-.94L8.5 2.5l-.94 2.06-2.06.94zm10 10l.94 2.06.94-2.06 2.06-.94-2.06-.94-.94-2.06-.94 2.06-2.06.94z\"/><path d=\"M17.41 7.96l-1.37-1.37c-.4-.4-.92-.59-1.43-.59-.52 0-1.04.2-1.43.59L10.3 9.45l-7.72 7.72c-.78.78-.78 2.05 0 2.83L4 21.41c.39.39.9.59 1.41.59.51 0 1.02-.2 1.41-.59l7.78-7.78 2.81-2.81c.8-.78.8-2.07 0-2.86zM5.41 20L4 18.59l7.72-7.72 1.47 1.35L5.41 20z\"/>\n",
              "  </svg>\n",
              "      </button>\n",
              "      \n",
              "  <style>\n",
              "    .colab-df-container {\n",
              "      display:flex;\n",
              "      flex-wrap:wrap;\n",
              "      gap: 12px;\n",
              "    }\n",
              "\n",
              "    .colab-df-convert {\n",
              "      background-color: #E8F0FE;\n",
              "      border: none;\n",
              "      border-radius: 50%;\n",
              "      cursor: pointer;\n",
              "      display: none;\n",
              "      fill: #1967D2;\n",
              "      height: 32px;\n",
              "      padding: 0 0 0 0;\n",
              "      width: 32px;\n",
              "    }\n",
              "\n",
              "    .colab-df-convert:hover {\n",
              "      background-color: #E2EBFA;\n",
              "      box-shadow: 0px 1px 2px rgba(60, 64, 67, 0.3), 0px 1px 3px 1px rgba(60, 64, 67, 0.15);\n",
              "      fill: #174EA6;\n",
              "    }\n",
              "\n",
              "    [theme=dark] .colab-df-convert {\n",
              "      background-color: #3B4455;\n",
              "      fill: #D2E3FC;\n",
              "    }\n",
              "\n",
              "    [theme=dark] .colab-df-convert:hover {\n",
              "      background-color: #434B5C;\n",
              "      box-shadow: 0px 1px 3px 1px rgba(0, 0, 0, 0.15);\n",
              "      filter: drop-shadow(0px 1px 2px rgba(0, 0, 0, 0.3));\n",
              "      fill: #FFFFFF;\n",
              "    }\n",
              "  </style>\n",
              "\n",
              "      <script>\n",
              "        const buttonEl =\n",
              "          document.querySelector('#df-e1a862e5-70eb-4a68-9ef5-d3efcd00c889 button.colab-df-convert');\n",
              "        buttonEl.style.display =\n",
              "          google.colab.kernel.accessAllowed ? 'block' : 'none';\n",
              "\n",
              "        async function convertToInteractive(key) {\n",
              "          const element = document.querySelector('#df-e1a862e5-70eb-4a68-9ef5-d3efcd00c889');\n",
              "          const dataTable =\n",
              "            await google.colab.kernel.invokeFunction('convertToInteractive',\n",
              "                                                     [key], {});\n",
              "          if (!dataTable) return;\n",
              "\n",
              "          const docLinkHtml = 'Like what you see? Visit the ' +\n",
              "            '<a target=\"_blank\" href=https://colab.research.google.com/notebooks/data_table.ipynb>data table notebook</a>'\n",
              "            + ' to learn more about interactive tables.';\n",
              "          element.innerHTML = '';\n",
              "          dataTable['output_type'] = 'display_data';\n",
              "          await google.colab.output.renderOutput(dataTable, element);\n",
              "          const docLink = document.createElement('div');\n",
              "          docLink.innerHTML = docLinkHtml;\n",
              "          element.appendChild(docLink);\n",
              "        }\n",
              "      </script>\n",
              "    </div>\n",
              "  </div>\n",
              "  "
            ]
          },
          "metadata": {},
          "execution_count": 95
        }
      ]
    },
    {
      "cell_type": "code",
      "source": [
        "print(data_inf['fake'])"
      ],
      "metadata": {
        "colab": {
          "base_uri": "https://localhost:8080/"
        },
        "id": "AJMU56wfJMn7",
        "outputId": "75f2251e-71b3-48fb-8095-6fc4dd85db7f"
      },
      "execution_count": 96,
      "outputs": [
        {
          "output_type": "stream",
          "name": "stdout",
          "text": [
            "437    1\n",
            "257    0\n",
            "373    1\n",
            "394    1\n",
            "184    0\n",
            "157    0\n",
            "362    1\n",
            "232    0\n",
            "561    1\n",
            "304    1\n",
            "Name: fake, dtype: int64\n"
          ]
        }
      ]
    },
    {
      "cell_type": "markdown",
      "source": [
        "Disini saya juga melakuan model inference untuk melihat apakah model bisa bekerja dengan baik, dan hasilnya model dapat bekerja dengan baik."
      ],
      "metadata": {
        "id": "WYEqqDNUeVEG"
      }
    },
    {
      "cell_type": "markdown",
      "source": [
        "# 11 - Pipeline"
      ],
      "metadata": {
        "id": "lvFaB0mSJkyj"
      }
    },
    {
      "cell_type": "code",
      "source": [
        "num_pipeline = make_pipeline(MinMaxScaler())\n",
        "\n",
        "cat_pipeline = make_pipeline(OneHotEncoder())\n",
        "\n",
        "data_pipeline = ColumnTransformer([\n",
        "    ('pipe_num', num_pipeline, num_columns),\n",
        "    ('pipe_cat', cat_pipeline, cat_columns)\n",
        "])\n"
      ],
      "metadata": {
        "id": "WxmruOIzJOOE"
      },
      "execution_count": 98,
      "outputs": []
    },
    {
      "cell_type": "code",
      "source": [
        "final_pipeline = make_pipeline(data_pipeline, RandomForestClassifier())"
      ],
      "metadata": {
        "id": "tZiNmvcULZPU"
      },
      "execution_count": 99,
      "outputs": []
    },
    {
      "cell_type": "markdown",
      "source": [
        "Disini saya juga membuat pipeline agar model nantinya bisa di deploy."
      ],
      "metadata": {
        "id": "Qo8aIg3RekrT"
      }
    },
    {
      "cell_type": "code",
      "source": [
        "final_pipeline.fit(X_train_cleaned, y_train)\n",
        "\n",
        "y_pred = final_pipeline.predict(X_test_cleaned)\n",
        "print(classification_report(y_test, y_pred))"
      ],
      "metadata": {
        "colab": {
          "base_uri": "https://localhost:8080/"
        },
        "id": "2llLeiPHLuNS",
        "outputId": "53512e5f-17fd-40b5-e5a1-d86944b75d2e"
      },
      "execution_count": 100,
      "outputs": [
        {
          "output_type": "stream",
          "name": "stdout",
          "text": [
            "              precision    recall  f1-score   support\n",
            "\n",
            "           0       0.92      0.89      0.90        64\n",
            "           1       0.87      0.90      0.89        52\n",
            "\n",
            "    accuracy                           0.90       116\n",
            "   macro avg       0.89      0.90      0.90       116\n",
            "weighted avg       0.90      0.90      0.90       116\n",
            "\n"
          ]
        }
      ]
    },
    {
      "cell_type": "markdown",
      "source": [
        "Setlah itu juga dilakukan tes predict terhadap pipline dimana hasilnya agak sedikit turun dibanding dengan model dilaur pipline."
      ],
      "metadata": {
        "id": "UI4-fg_Me2Wj"
      }
    },
    {
      "cell_type": "code",
      "source": [
        "with open(\"pipeline.pkl\", \"wb\") as model_file:\n",
        "    pickle.dump(final_pipeline, model_file)"
      ],
      "metadata": {
        "id": "rx6YGOXVL7fU"
      },
      "execution_count": 102,
      "outputs": []
    },
    {
      "cell_type": "markdown",
      "source": [
        "Terakhir pipeline di masukan kedalam file pipline.pkl dimana file inilah nanti yang akan di deploy ke heroku."
      ],
      "metadata": {
        "id": "90WyP-9LfFpj"
      }
    },
    {
      "cell_type": "markdown",
      "source": [
        "# 12 - Kesimpulan"
      ],
      "metadata": {
        "id": "SqWADnP3fRRS"
      }
    },
    {
      "cell_type": "markdown",
      "source": [
        "Tujuan dari pengerjaan project ini adalah untuk membuat sebuah model yang mampu memprediksi apahak sebuah akun instrgam itu fake/spammers atau tidak. Dataset yang digunakan adalah dataset tentang akun - akun intragram. Dalam proses pengerjaannya dimulai dari load data, EDA, preporcessing, scalling dan encoding, PCA, model training, model evaluation, model dan terakhir piplelin. Beberapa ponit yang dapat diambil adalah sebagai berikut:\n",
        "1. Data di buat kedalam dua bentuk yaitu data biasa dengan 12 dimensi dan data PCA dengan 3 dimensi.\n",
        "2. Untuk model yang digunakan adalah SVM dan RAndom Forest Classifier.\n",
        "3. Pada saat model training data biasa memiliki performa yang lebih baik dari data yang sudah di PCA, oleh karena itu data yang tetap akan digunakan adalah data biasa dengan 12 dimensi.\n",
        "4. Untuk mmodel, Random Foresst Classifier memiliki perfroma yang lebih baik di bandingkan dengan SVM, oleh karena itu model yang akan dipakai adalah Random Forest.\n",
        "5. Untuk hasil tuning pada model terbaik yaitu Random Forest, ternyata hasilnya tidak lebih baik jika dibangingkna dengan model Random Forest yang default.\n",
        "6. Untuk pipe yang menggunakan model Rnadom FOrest default memiliki hasil yang sedikit turun jika di bandinkan dengan model default diluar pipeline, tetapi perbedaanny hanya sekitar 1%."
      ],
      "metadata": {
        "id": "paJxhEXWheiT"
      }
    },
    {
      "cell_type": "code",
      "source": [
        ""
      ],
      "metadata": {
        "id": "JXLbcTxZj0rq"
      },
      "execution_count": null,
      "outputs": []
    }
  ]
}